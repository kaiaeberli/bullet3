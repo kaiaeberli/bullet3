{
 "cells": [
  {
   "cell_type": "markdown",
   "metadata": {},
   "source": [
    "# Control Minitaur with Sliders live and plot actions live"
   ]
  },
  {
   "cell_type": "markdown",
   "metadata": {},
   "source": [
    "## imports"
   ]
  },
  {
   "cell_type": "code",
   "execution_count": 7,
   "metadata": {},
   "outputs": [
    {
     "name": "stdout",
     "output_type": "stream",
     "text": [
      "parentdir= C:\\coding_repos\\bullet3\\examples\\pybullet\\gym\n",
      "Exception reporting mode: Minimal\n"
     ]
    }
   ],
   "source": [
    "#import pybullet_envs\n",
    "import os\n",
    "bullet_dir = r\"C:\\coding_repos\\bullet3\\examples\\pybullet\\gym\"\n",
    "print(\"parentdir=\", bullet_dir)\n",
    "os.sys.path.insert(0, bullet_dir)\n",
    "import pybullet as pb\n",
    "import math\n",
    "\n",
    "from pybullet_envs.minitaur.envs.minitaur_gym_env import MinitaurGymEnv\n",
    "import pandas as pd, numpy as np\n",
    "import time\n",
    "import matplotlib.pyplot as plt\n",
    "from jupyter_ui_poll import ui_events\n",
    "\n",
    "\n",
    "from ipywidgets import interact, interactive, fixed, interact_manual, Layout, VBox, HBox\n",
    "import ipywidgets as widgets\n",
    "\n",
    "\n",
    "%load_ext autoreload\n",
    "%autoreload 2\n",
    "%xmode Minimal"
   ]
  },
  {
   "cell_type": "markdown",
   "metadata": {},
   "source": [
    "# Minitaur: manual steering in leg space"
   ]
  },
  {
   "cell_type": "code",
   "execution_count": 2,
   "metadata": {},
   "outputs": [
    {
     "name": "stderr",
     "output_type": "stream",
     "text": [
      "C:\\Users\\kaiae\\.conda\\envs\\doggo\\lib\\site-packages\\gym\\logger.py:30: UserWarning:\n",
      "\n",
      "\u001b[33mWARN: Box bound precision lowered by casting to float32\u001b[0m\n",
      "\n"
     ]
    }
   ],
   "source": [
    "env = MinitaurGymEnv(\n",
    "      urdf_version=minitaur_gym_env.DERPY_V0_URDF_VERSION,\n",
    "      render=True,\n",
    "      motor_velocity_limit=np.inf,\n",
    "      pd_control_enabled=True,\n",
    "      hard_reset=True,\n",
    "      on_rack=False,\n",
    "      )"
   ]
  },
  {
   "cell_type": "code",
   "execution_count": 3,
   "metadata": {},
   "outputs": [],
   "source": [
    "%matplotlib widget"
   ]
  },
  {
   "cell_type": "code",
   "execution_count": 4,
   "metadata": {},
   "outputs": [],
   "source": [
    "motor_names = [\n",
    " 'motor_front_leftL_joint',\n",
    " 'motor_front_leftR_joint',\n",
    " 'motor_back_leftL_joint',\n",
    " 'motor_back_leftR_joint',\n",
    " 'motor_front_rightL_joint',\n",
    " 'motor_front_rightR_joint',\n",
    " 'motor_back_rightL_joint',\n",
    " 'motor_back_rightR_joint']"
   ]
  },
  {
   "cell_type": "code",
   "execution_count": 5,
   "metadata": {},
   "outputs": [],
   "source": [
    "leg_model_input_description = [\n",
    " 's_front_left',\n",
    " 's_back_left',\n",
    " 's_front_right',\n",
    " 's_back_right',\n",
    " 'e_front_left',\n",
    " 'e_back_left',\n",
    " 'e_front_right',\n",
    " 'e_back_right']"
   ]
  },
  {
   "cell_type": "code",
   "execution_count": 8,
   "metadata": {},
   "outputs": [
    {
     "data": {
      "application/vnd.jupyter.widget-view+json": {
       "model_id": "1974cd3ccda64b6baaee1bf74ca19ddc",
       "version_major": 2,
       "version_minor": 0
      },
      "text/plain": [
       "HBox(children=(HBox(children=(FloatSlider(value=0.0, description='s_front_left', layout=Layout(height='400px',…"
      ]
     },
     "metadata": {},
     "output_type": "display_data"
    },
    {
     "ename": "KeyboardInterrupt",
     "evalue": "",
     "output_type": "error",
     "traceback": [
      "\u001b[1;31mKeyboardInterrupt\u001b[0m\n"
     ]
    }
   ],
   "source": [
    "action = [0]*8\n",
    "plt.close('all')\n",
    "\n",
    "plt.ioff()\n",
    "\n",
    "    \n",
    "output = widgets.Output(layout={'width': '700px', 'height': '300px'})\n",
    "d_desc_to_pos = {d:i for i, d in enumerate(leg_model_input_description)}\n",
    "\n",
    "# initialise leg space to 0\n",
    "leg_angles = [0] * 8\n",
    "\n",
    "\n",
    "\n",
    "fig, axs= plt.subplots(8, 2, figsize=(10, 8), sharex=True)\n",
    "\n",
    "fig.canvas.header_visible = False\n",
    "fig.canvas.toolbar_visible = False\n",
    "\n",
    "lines = []\n",
    "for i in range(8):    \n",
    "    axs[i,0].set_ylim(-1.5,1.5)\n",
    "    #axs[i,0].set_xlim(0,55)\n",
    "    axs[i,1].set_ylim(-180,180)\n",
    "    #axs[i,1].set_xlim(0,55)\n",
    "    \n",
    "# index giver\n",
    "from itertools import count\n",
    "x_value = count()\n",
    "\n",
    "# expanding dataset\n",
    "x, y_desired, y_actual = [], [], []\n",
    "\n",
    "# initialise dummy data\n",
    "[x.append(next(x_value)) for i in range(1)]\n",
    "[y_desired.append(action) for i in range(1)]\n",
    "[y_actual.append(action) for i in range(1)]\n",
    "\n",
    "# setup desired and actual angle plots\n",
    "dfs=[]\n",
    "ax_df_desired = pd.DataFrame(index=x,columns=leg_model_input_description, \n",
    "             data=y_desired).plot(subplots=True, ax=axs[:,0])\n",
    "\n",
    "ax_df_actual = pd.DataFrame(index=x,columns=motor_names, \n",
    "             data=y_actual).plot(subplots=True, ax=axs[:,1])\n",
    "dfs.append(ax_df_desired)\n",
    "dfs.append(ax_df_actual)\n",
    "\n",
    "# monitor framerate\n",
    "t_start = time.time()        \n",
    "        \n",
    "# slider event handler\n",
    "def on_value_changed(newval):\n",
    "    with output:\n",
    "        #print(newval)\n",
    "        desc, val = newval.owner.description, newval.new\n",
    "        pos = d_desc_to_pos[desc]\n",
    "        leg_angles[pos] = val        \n",
    "\n",
    "        global action\n",
    "        action = leg_angles\n",
    "\n",
    "        df_actual = pd.DataFrame(columns=[\"pos\", \"vel\", \"reaction forces\", \"motor torque\"], \n",
    "                                data=pb.getJointStates(env.minitaur.quadruped, range(len(d_desc_to_pos))))\n",
    "\n",
    "        \n",
    "        \n",
    "        next_x = next(x_value)\n",
    "        x.append(next_x)\n",
    "        y_desired.append(leg_angles[:]) # need to make copy else it doesnt work, to do with globals?\n",
    "        y_actual.append(df_actual.loc[:,\"pos\"].mul(180).div(math.pi).tolist())\n",
    "        \n",
    "        # update graph live    \n",
    "        for i in range(8):\n",
    "            #la = dfs[0][i].get_lines()[0]\n",
    "            dfs[0][i].get_lines()[0].set_data(x, pd.DataFrame(y_desired).iloc[:,i])\n",
    "            #lb = dfs[1][i].get_lines()[0]\n",
    "            dfs[1][i].get_lines()[0].set_data(x, pd.DataFrame(y_actual).iloc[:,i])\n",
    "\n",
    "            dfs[0][i].autoscale_view(None,'x',None)\n",
    "            dfs[1][i].autoscale_view(None,'x',None)\n",
    "            dfs[0][i].relim()\n",
    "            dfs[1][i].relim()\n",
    "            \n",
    "            \n",
    "        fig.canvas.flush_events()\n",
    "        fig.canvas.draw()\n",
    "        \n",
    "        print(f\"FPS: {round(next_x/(time.time() - t_start),2)}\", end=\", \")\n",
    "        \n",
    "        \n",
    "        \n",
    "\n",
    "\n",
    "\n",
    "\n",
    "# create control sliders for each motor and attach event handlers\n",
    "sliders = []\n",
    "s_min, s_max = -1, 1\n",
    "for slider in list(d_desc_to_pos.keys()):\n",
    "    int_slider = widgets.FloatSlider(description=slider, \n",
    "                                     min=s_min, max=s_max, \n",
    "                                     value = 0, continuous_update=True,\n",
    "                                     orientation=\"vertical\",                                      \n",
    "                                     layout=Layout(width=\"80px\", height=\"400px\"))    \n",
    "    int_slider.observe(on_value_changed, names=\"value\")\n",
    "    sliders.append(int_slider)\n",
    "sliders.append(output)\n",
    "\n",
    "\n",
    "\n",
    "# link front left and right extension\n",
    "widgets.jslink((sliders[0], 'value'), (sliders[2], 'value'))\n",
    "widgets.jslink((sliders[1], 'value'), (sliders[3], 'value')) # link back left and right \n",
    "widgets.jslink((sliders[4], 'value'), (sliders[6], 'value')) # link back left and right \n",
    "widgets.jslink((sliders[5], 'value'), (sliders[7], 'value')) # link back left and right \n",
    "\n",
    "# layout and display sliders\n",
    "box_layout = Layout(display='flex', flex_flow='row', justify_content='space-between', align_items='stretch', width=\"100%\")\n",
    "sliders = widgets.HBox([widgets.HBox(sliders), fig.canvas], layout=box_layout)\n",
    "display(sliders)\n",
    "fig.subplots_adjust(left=0.03, top=1, hspace=0) # larger top values decreases top space\n",
    "\n",
    "\n",
    "\n",
    "env.reset()\n",
    "pb.setRealTimeSimulation(0)\n",
    "obs_history = []\n",
    "with ui_events() as poll:\n",
    "    while action is not None:\n",
    "        poll(10) # poll for 10 ui events\n",
    "        #print(action, end=\"\")\n",
    "        obs, rew, done, info = env.step(action)\n",
    "        obs_history.append(obs)\n",
    "        #print('x', end='')\n",
    "        #time.sleep(0.1)\n",
    "print('done')"
   ]
  },
  {
   "cell_type": "code",
   "execution_count": null,
   "metadata": {},
   "outputs": [],
   "source": []
  }
 ],
 "metadata": {
  "kernelspec": {
   "display_name": "Python 3",
   "language": "python",
   "name": "python3"
  },
  "language_info": {
   "codemirror_mode": {
    "name": "ipython",
    "version": 3
   },
   "file_extension": ".py",
   "mimetype": "text/x-python",
   "name": "python",
   "nbconvert_exporter": "python",
   "pygments_lexer": "ipython3",
   "version": "3.7.6"
  },
  "toc": {
   "nav_menu": {},
   "number_sections": true,
   "sideBar": true,
   "skip_h1_title": false,
   "toc_cell": false,
   "toc_position": {},
   "toc_section_display": "block",
   "toc_window_display": false
  },
  "varInspector": {
   "cols": {
    "lenName": 16,
    "lenType": 16,
    "lenVar": 40
   },
   "kernels_config": {
    "python": {
     "delete_cmd_postfix": "",
     "delete_cmd_prefix": "del ",
     "library": "var_list.py",
     "varRefreshCmd": "print(var_dic_list())"
    },
    "r": {
     "delete_cmd_postfix": ") ",
     "delete_cmd_prefix": "rm(",
     "library": "var_list.r",
     "varRefreshCmd": "cat(var_dic_list()) "
    }
   },
   "types_to_exclude": [
    "module",
    "function",
    "builtin_function_or_method",
    "instance",
    "_Feature"
   ],
   "window_display": false
  }
 },
 "nbformat": 4,
 "nbformat_minor": 4
}
